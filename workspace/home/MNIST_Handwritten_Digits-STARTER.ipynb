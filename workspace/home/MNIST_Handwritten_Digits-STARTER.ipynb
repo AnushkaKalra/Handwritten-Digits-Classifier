{
 "cells": [
  {
   "cell_type": "markdown",
   "metadata": {},
   "source": [
    "# Introduction\n",
    "\n",
    "In this project, you will build a neural network of your own design to evaluate the MNIST dataset.\n",
    "\n",
    "Some of the benchmark results on MNIST include can be found [on Yann LeCun's page](https://webcache.googleusercontent.com/search?q=cache:stAVPik6onEJ:yann.lecun.com/exdb/mnist) and include:\n",
    "\n",
    "88% [Lecun et al., 1998](https://hal.science/hal-03926082/document)\n",
    "\n",
    "95.3% [Lecun et al., 1998](https://hal.science/hal-03926082v1/document)\n",
    "\n",
    "99.65% [Ciresan et al., 2011](http://people.idsia.ch/~juergen/ijcai2011.pdf)\n",
    "\n",
    "\n",
    "MNIST is a great dataset for sanity checking your models, since the accuracy levels achieved by large convolutional neural networks and small linear models are both quite high. This makes it important to be familiar with the data.\n",
    "\n",
    "## Installation"
   ]
  },
  {
   "cell_type": "code",
   "execution_count": 1,
   "metadata": {},
   "outputs": [],
   "source": [
    "# Update the PATH to include the user installation directory. \n",
    "import os\n",
    "os.environ['PATH'] = f\"{os.environ['PATH']}:/root/.local/bin\"\n",
    "\n",
    "# Restart the Kernel before you move on to the next step."
   ]
  },
  {
   "cell_type": "markdown",
   "metadata": {},
   "source": [
    "#### Important: Restart the Kernel before you move on to the next step."
   ]
  },
  {
   "cell_type": "code",
   "execution_count": 1,
   "metadata": {},
   "outputs": [
    {
     "name": "stdout",
     "output_type": "stream",
     "text": [
      "Defaulting to user installation because normal site-packages is not writeable\n",
      "Collecting opencv-python-headless==4.5.3.56\n",
      "  Downloading opencv_python_headless-4.5.3.56-cp37-cp37m-manylinux2014_x86_64.whl (37.1 MB)\n",
      "\u001b[K     |████████████████████████████████| 37.1 MB 9.2 MB/s eta 0:00:011\n",
      "\u001b[?25hRequirement already satisfied: matplotlib==3.4.3 in /opt/conda/lib/python3.7/site-packages (from -r requirements.txt (line 2)) (3.4.3)\n",
      "Requirement already satisfied: numpy==1.21.2 in /opt/conda/lib/python3.7/site-packages (from -r requirements.txt (line 3)) (1.21.2)\n",
      "Requirement already satisfied: pillow==7.0.0 in /opt/conda/lib/python3.7/site-packages (from -r requirements.txt (line 4)) (7.0.0)\n",
      "Collecting bokeh==2.1.1\n",
      "  Downloading bokeh-2.1.1.tar.gz (19.3 MB)\n",
      "\u001b[K     |███████████████████████▌        | 14.2 MB 7.0 MB/s eta 0:00:01^C\n",
      "\n",
      "\u001b[31mERROR: Operation cancelled by user\u001b[0m\n"
     ]
    }
   ],
   "source": [
    "# Install requirements\n",
    "!python -m pip install -r requirements.txt"
   ]
  },
  {
   "cell_type": "markdown",
   "metadata": {},
   "source": [
    "## Imports"
   ]
  },
  {
   "cell_type": "code",
   "execution_count": 2,
   "metadata": {},
   "outputs": [],
   "source": [
    "## This cell contains the essential imports you will need – DO NOT CHANGE THE CONTENTS! ##\n",
    "import torch\n",
    "import torch.nn as nn\n",
    "import torch.nn.functional as F\n",
    "import torch.optim as optim\n",
    "import torchvision\n",
    "import torchvision.transforms as transforms\n",
    "import matplotlib.pyplot as plt\n",
    "import numpy as np"
   ]
  },
  {
   "cell_type": "markdown",
   "metadata": {},
   "source": [
    "## Load the Dataset\n",
    "\n",
    "Specify your transforms as a list if you intend to .\n",
    "The transforms module is already loaded as `transforms`.\n",
    "\n",
    "MNIST is fortunately included in the torchvision module.\n",
    "Then, you can create your dataset using the `MNIST` object from `torchvision.datasets` ([the documentation is available here](https://pytorch.org/vision/stable/datasets.html#mnist)).\n",
    "Make sure to specify `download=True`! \n",
    "\n",
    "Once your dataset is created, you'll also need to define a `DataLoader` from the `torch.utils.data` module for both the train and the test set."
   ]
  },
  {
   "cell_type": "code",
   "execution_count": 3,
   "metadata": {},
   "outputs": [
    {
     "name": "stdout",
     "output_type": "stream",
     "text": [
      "Defaulting to user installation because normal site-packages is not writeable\n",
      "Collecting ipywidgets\n",
      "  Downloading ipywidgets-8.1.3-py3-none-any.whl (139 kB)\n",
      "\u001b[K     |████████████████████████████████| 139 kB 1.0 MB/s eta 0:00:01\n",
      "\u001b[?25hCollecting comm>=0.1.3\n",
      "  Downloading comm-0.1.4-py3-none-any.whl (6.6 kB)\n",
      "Collecting widgetsnbextension~=4.0.11\n",
      "  Downloading widgetsnbextension-4.0.11-py3-none-any.whl (2.3 MB)\n",
      "\u001b[K     |████████████████████████████████| 2.3 MB 10.2 MB/s eta 0:00:01\n",
      "\u001b[?25hRequirement already satisfied: traitlets>=4.3.1 in /opt/conda/lib/python3.7/site-packages (from ipywidgets) (4.3.3)\n",
      "Requirement already satisfied: ipython>=6.1.0 in /opt/conda/lib/python3.7/site-packages (from ipywidgets) (7.13.0)\n",
      "Collecting jupyterlab-widgets~=3.0.11\n",
      "  Downloading jupyterlab_widgets-3.0.11-py3-none-any.whl (214 kB)\n",
      "\u001b[K     |████████████████████████████████| 214 kB 70.9 MB/s eta 0:00:01\n",
      "\u001b[?25hRequirement already satisfied: decorator in /opt/conda/lib/python3.7/site-packages (from traitlets>=4.3.1->ipywidgets) (4.4.2)\n",
      "Requirement already satisfied: six in /opt/conda/lib/python3.7/site-packages (from traitlets>=4.3.1->ipywidgets) (1.16.0)\n",
      "Requirement already satisfied: ipython-genutils in /opt/conda/lib/python3.7/site-packages (from traitlets>=4.3.1->ipywidgets) (0.2.0)\n",
      "Requirement already satisfied: setuptools>=18.5 in /opt/conda/lib/python3.7/site-packages (from ipython>=6.1.0->ipywidgets) (45.2.0.post20200209)\n",
      "Requirement already satisfied: prompt-toolkit!=3.0.0,!=3.0.1,<3.1.0,>=2.0.0 in /opt/conda/lib/python3.7/site-packages (from ipython>=6.1.0->ipywidgets) (3.0.3)\n",
      "Requirement already satisfied: pickleshare in /opt/conda/lib/python3.7/site-packages (from ipython>=6.1.0->ipywidgets) (0.7.5)\n",
      "Requirement already satisfied: jedi>=0.10 in /opt/conda/lib/python3.7/site-packages (from ipython>=6.1.0->ipywidgets) (0.16.0)\n",
      "Requirement already satisfied: backcall in /opt/conda/lib/python3.7/site-packages (from ipython>=6.1.0->ipywidgets) (0.1.0)\n",
      "Requirement already satisfied: pygments in /opt/conda/lib/python3.7/site-packages (from ipython>=6.1.0->ipywidgets) (2.5.2)\n",
      "Requirement already satisfied: pexpect; sys_platform != \"win32\" in /opt/conda/lib/python3.7/site-packages (from ipython>=6.1.0->ipywidgets) (4.8.0)\n",
      "Requirement already satisfied: wcwidth in /opt/conda/lib/python3.7/site-packages (from prompt-toolkit!=3.0.0,!=3.0.1,<3.1.0,>=2.0.0->ipython>=6.1.0->ipywidgets) (0.1.8)\n",
      "Requirement already satisfied: parso>=0.5.2 in /opt/conda/lib/python3.7/site-packages (from jedi>=0.10->ipython>=6.1.0->ipywidgets) (0.6.1)\n",
      "Requirement already satisfied: ptyprocess>=0.5 in /opt/conda/lib/python3.7/site-packages (from pexpect; sys_platform != \"win32\"->ipython>=6.1.0->ipywidgets) (0.6.0)\n",
      "Installing collected packages: comm, widgetsnbextension, jupyterlab-widgets, ipywidgets\n",
      "Successfully installed comm-0.1.4 ipywidgets-8.1.3 jupyterlab-widgets-3.0.11 widgetsnbextension-4.0.11\n",
      "Note: you may need to restart the kernel to use updated packages.\n"
     ]
    }
   ],
   "source": [
    "pip install ipywidgets"
   ]
  },
  {
   "cell_type": "code",
   "execution_count": 4,
   "metadata": {},
   "outputs": [
    {
     "name": "stdout",
     "output_type": "stream",
     "text": [
      "Defaulting to user installation because normal site-packages is not writeable\n",
      "Requirement already up-to-date: ipywidgets in /root/.local/lib/python3.7/site-packages (8.1.3)\n",
      "Collecting tqdm\n",
      "  Downloading tqdm-4.66.5-py3-none-any.whl (78 kB)\n",
      "\u001b[K     |████████████████████████████████| 78 kB 833 kB/s eta 0:00:011\n",
      "\u001b[?25hRequirement already satisfied, skipping upgrade: comm>=0.1.3 in /root/.local/lib/python3.7/site-packages (from ipywidgets) (0.1.4)\n",
      "Requirement already satisfied, skipping upgrade: ipython>=6.1.0 in /opt/conda/lib/python3.7/site-packages (from ipywidgets) (7.13.0)\n",
      "Requirement already satisfied, skipping upgrade: widgetsnbextension~=4.0.11 in /root/.local/lib/python3.7/site-packages (from ipywidgets) (4.0.11)\n",
      "Requirement already satisfied, skipping upgrade: traitlets>=4.3.1 in /opt/conda/lib/python3.7/site-packages (from ipywidgets) (4.3.3)\n",
      "Requirement already satisfied, skipping upgrade: jupyterlab-widgets~=3.0.11 in /root/.local/lib/python3.7/site-packages (from ipywidgets) (3.0.11)\n",
      "Requirement already satisfied, skipping upgrade: setuptools>=18.5 in /opt/conda/lib/python3.7/site-packages (from ipython>=6.1.0->ipywidgets) (45.2.0.post20200209)\n",
      "Requirement already satisfied, skipping upgrade: pygments in /opt/conda/lib/python3.7/site-packages (from ipython>=6.1.0->ipywidgets) (2.5.2)\n",
      "Requirement already satisfied, skipping upgrade: jedi>=0.10 in /opt/conda/lib/python3.7/site-packages (from ipython>=6.1.0->ipywidgets) (0.16.0)\n",
      "Requirement already satisfied, skipping upgrade: decorator in /opt/conda/lib/python3.7/site-packages (from ipython>=6.1.0->ipywidgets) (4.4.2)\n",
      "Requirement already satisfied, skipping upgrade: prompt-toolkit!=3.0.0,!=3.0.1,<3.1.0,>=2.0.0 in /opt/conda/lib/python3.7/site-packages (from ipython>=6.1.0->ipywidgets) (3.0.3)\n",
      "Requirement already satisfied, skipping upgrade: backcall in /opt/conda/lib/python3.7/site-packages (from ipython>=6.1.0->ipywidgets) (0.1.0)\n",
      "Requirement already satisfied, skipping upgrade: pexpect; sys_platform != \"win32\" in /opt/conda/lib/python3.7/site-packages (from ipython>=6.1.0->ipywidgets) (4.8.0)\n",
      "Requirement already satisfied, skipping upgrade: pickleshare in /opt/conda/lib/python3.7/site-packages (from ipython>=6.1.0->ipywidgets) (0.7.5)\n",
      "Requirement already satisfied, skipping upgrade: six in /opt/conda/lib/python3.7/site-packages (from traitlets>=4.3.1->ipywidgets) (1.16.0)\n",
      "Requirement already satisfied, skipping upgrade: ipython-genutils in /opt/conda/lib/python3.7/site-packages (from traitlets>=4.3.1->ipywidgets) (0.2.0)\n",
      "Requirement already satisfied, skipping upgrade: parso>=0.5.2 in /opt/conda/lib/python3.7/site-packages (from jedi>=0.10->ipython>=6.1.0->ipywidgets) (0.6.1)\n",
      "Requirement already satisfied, skipping upgrade: wcwidth in /opt/conda/lib/python3.7/site-packages (from prompt-toolkit!=3.0.0,!=3.0.1,<3.1.0,>=2.0.0->ipython>=6.1.0->ipywidgets) (0.1.8)\n",
      "Requirement already satisfied, skipping upgrade: ptyprocess>=0.5 in /opt/conda/lib/python3.7/site-packages (from pexpect; sys_platform != \"win32\"->ipython>=6.1.0->ipywidgets) (0.6.0)\n",
      "Installing collected packages: tqdm\n",
      "\u001b[33m  WARNING: The script tqdm is installed in '/root/.local/bin' which is not on PATH.\n",
      "  Consider adding this directory to PATH or, if you prefer to suppress this warning, use --no-warn-script-location.\u001b[0m\n",
      "Successfully installed tqdm-4.66.5\n",
      "Note: you may need to restart the kernel to use updated packages.\n"
     ]
    }
   ],
   "source": [
    "pip install ipywidgets tqdm --upgrade"
   ]
  },
  {
   "cell_type": "code",
   "execution_count": 5,
   "metadata": {},
   "outputs": [],
   "source": [
    "from torch.utils.data import DataLoader"
   ]
  },
  {
   "cell_type": "code",
   "execution_count": 6,
   "metadata": {},
   "outputs": [],
   "source": [
    "from torchvision import datasets, transforms"
   ]
  },
  {
   "cell_type": "code",
   "execution_count": 7,
   "metadata": {},
   "outputs": [
    {
     "name": "stderr",
     "output_type": "stream",
     "text": [
      "/opt/conda/lib/python3.7/site-packages/torchvision/datasets/mnist.py:498: UserWarning: The given NumPy array is not writable, and PyTorch does not support non-writable tensors. This means writing to this tensor will result in undefined behavior. You may want to copy the array to protect its data or make it writable before converting it to a tensor. This type of warning will be suppressed for the rest of this program. (Triggered internally at  ../torch/csrc/utils/tensor_numpy.cpp:178.)\n",
      "  return torch.from_numpy(parsed.astype(m[2], copy=False)).view(*s)\n"
     ]
    }
   ],
   "source": [
    "# Define transforms\n",
    "transform = transforms.Compose([transforms.ToTensor(), transforms.Normalize((0.5,), (0.5,))])\n",
    "\n",
    "# Create training set and define training dataloader\n",
    "train_dataset = datasets.MNIST(root = \"data\", train = True, download = True, transform = transform) \n",
    "train_loader = DataLoader(train_dataset, batch_size=64, shuffle=True)\n",
    "\n",
    "# Create test set and define test dataloader\n",
    "test_dataset = datasets.MNIST(root = \"data\", train = False, download = True, transform = transform)\n",
    "test_loader = DataLoader(test_dataset, batch_size=64, shuffle = False)"
   ]
  },
  {
   "cell_type": "markdown",
   "metadata": {},
   "source": [
    "## Justify your preprocessing\n",
    "\n",
    "In your own words, why did you choose the transforms you chose? If you didn't use any preprocessing steps, why not?"
   ]
  },
  {
   "cell_type": "markdown",
   "metadata": {},
   "source": [
    "For the MNIST dataset, 2 transforms were chosen - ToTensor() and Normalize() as visible by the code: transform = transforms.Compose([transforms.ToTensor(), transforms.Normalize((0.5,), (0.5,))]).\n",
    "The ToTensor() transform converts the images from PIL format to PyTorch tensors. It thus, provides input in the form of tensors.\n",
    "The Normalize() transform standardizes the pixel values of the images. Here, the normalization is done with mean and standard deviation values of 0.5. Hence, The normalized pixel values will be in the range [−1,1].\n",
    "\n",
    "No, I did not use any preprocessing steps as the images in the dataset are grayscale and have a uniform size of 28 * 28 pixels. Thus, there was no need to include any additional color or resizing transformations."
   ]
  },
  {
   "cell_type": "markdown",
   "metadata": {},
   "source": [
    "## Explore the Dataset\n",
    "Using matplotlib, numpy, and torch, explore the dimensions of your data.\n",
    "\n",
    "You can view images using the `show5` function defined below – it takes a data loader as an argument.\n",
    "Remember that normalized images will look really weird to you! You may want to try changing your transforms to view images.\n",
    "Typically using no transforms other than `toTensor()` works well for viewing – but not as well for training your network.\n",
    "If `show5` doesn't work, go back and check your code for creating your data loaders and your training/test sets."
   ]
  },
  {
   "cell_type": "code",
   "execution_count": 8,
   "metadata": {},
   "outputs": [],
   "source": [
    "## This cell contains a function for showing 5 images from a dataloader – DO NOT CHANGE THE CONTENTS! ##\n",
    "def show5(img_loader):\n",
    "    dataiter = iter(img_loader)\n",
    "    \n",
    "    batch = next(dataiter)\n",
    "    labels = batch[1][0:5]\n",
    "    images = batch[0][0:5]\n",
    "    for i in range(5):\n",
    "        print(int(labels[i].detach()))\n",
    "    \n",
    "        image = images[i].numpy()\n",
    "        plt.imshow(image.T.squeeze().T)\n",
    "        plt.show()"
   ]
  },
  {
   "cell_type": "code",
   "execution_count": 9,
   "metadata": {},
   "outputs": [
    {
     "data": {
      "text/plain": [
       "60000"
      ]
     },
     "execution_count": 9,
     "metadata": {},
     "output_type": "execute_result"
    }
   ],
   "source": [
    "len(train_dataset)"
   ]
  },
  {
   "cell_type": "code",
   "execution_count": 10,
   "metadata": {},
   "outputs": [
    {
     "data": {
      "text/plain": [
       "10000"
      ]
     },
     "execution_count": 10,
     "metadata": {},
     "output_type": "execute_result"
    }
   ],
   "source": [
    "len(test_dataset)"
   ]
  },
  {
   "cell_type": "code",
   "execution_count": 11,
   "metadata": {},
   "outputs": [
    {
     "name": "stdout",
     "output_type": "stream",
     "text": [
      "6\n"
     ]
    },
    {
     "data": {
      "image/png": "[encoded data removed]",
      "text/plain": [
       "<Figure size 432x288 with 1 Axes>"
      ]
     },
     "metadata": {
      "needs_background": "light"
     },
     "output_type": "display_data"
    },
    {
     "name": "stdout",
     "output_type": "stream",
     "text": [
      "1\n"
     ]
    },
    {
     "data": {
      "image/png": "[encoded data removed]",
      "text/plain": [
       "<Figure size 432x288 with 1 Axes>"
      ]
     },
     "metadata": {
      "needs_background": "light"
     },
     "output_type": "display_data"
    },
    {
     "name": "stdout",
     "output_type": "stream",
     "text": [
      "5\n"
     ]
    },
    {
     "data": {
      "image/png": "[encoded data removed]",
      "text/plain": [
       "<Figure size 432x288 with 1 Axes>"
      ]
     },
     "metadata": {
      "needs_background": "light"
     },
     "output_type": "display_data"
    },
    {
     "name": "stdout",
     "output_type": "stream",
     "text": [
      "7\n"
     ]
    },
    {
     "data": {
      "image/png": "[encoded data removed]",
      "text/plain": [
       "<Figure size 432x288 with 1 Axes>"
      ]
     },
     "metadata": {
      "needs_background": "light"
     },
     "output_type": "display_data"
    },
    {
     "name": "stdout",
     "output_type": "stream",
     "text": [
      "4\n"
     ]
    },
    {
     "data": {
      "image/png": "[encoded data removed]",
      "text/plain": [
       "<Figure size 432x288 with 1 Axes>"
      ]
     },
     "metadata": {
      "needs_background": "light"
     },
     "output_type": "display_data"
    }
   ],
   "source": [
    "# Explore data\n",
    "show5(train_loader)"
   ]
  },
  {
   "cell_type": "markdown",
   "metadata": {},
   "source": [
    "## Build your Neural Network\n",
    "Using the layers in `torch.nn` (which has been imported as `nn`) and the `torch.nn.functional` module (imported as `F`), construct a neural network based on the parameters of the dataset.\n",
    "Use any architecture you like. \n",
    "\n",
    "*Note*: If you did not flatten your tensors in your transforms or as part of your preprocessing and you are using only `Linear` layers, make sure to use the `Flatten` layer in your network!"
   ]
  },
  {
   "cell_type": "code",
   "execution_count": 12,
   "metadata": {},
   "outputs": [
    {
     "name": "stdout",
     "output_type": "stream",
     "text": [
      "Using cuda device\n"
     ]
    }
   ],
   "source": [
    "device = (\n",
    "    \"cuda\"\n",
    "    if torch.cuda.is_available()\n",
    "    else \"mps\"\n",
    "    if torch.backends.mps.is_available()\n",
    "    else \"cpu\"\n",
    ")\n",
    "print(f\"Using {device} device\")"
   ]
  },
  {
   "cell_type": "code",
   "execution_count": 13,
   "metadata": {},
   "outputs": [],
   "source": [
    "class NeuralNetwork(nn.Module):\n",
    "    def __init__(self):\n",
    "        super(NeuralNetwork, self).__init__()\n",
    "        self.activation = F.relu\n",
    "        \n",
    "        # NN Layers\n",
    "        self.l1 = nn.Linear(28 * 28 * 1, 512)\n",
    "        self.l2 = nn.Linear(512, 256)\n",
    "        self.l3 = nn.Linear(256, 128)\n",
    "        self.l4 = nn.Linear(128, 64)\n",
    "        self.l5 = nn.Linear(64, 10)\n",
    "        \n",
    "    def forward(self, x):\n",
    "        x = torch.flatten(x, 1)\n",
    "        x = self.activation(self.l1(x))\n",
    "        x = self.activation(self.l2(x))\n",
    "        x = self.activation(self.l3(x))\n",
    "        x = self.activation(self.l4(x))\n",
    "        x = self.l5(x)\n",
    "        return x"
   ]
  },
  {
   "cell_type": "code",
   "execution_count": 14,
   "metadata": {},
   "outputs": [
    {
     "name": "stdout",
     "output_type": "stream",
     "text": [
      "NeuralNetwork(\n",
      "  (l1): Linear(in_features=784, out_features=512, bias=True)\n",
      "  (l2): Linear(in_features=512, out_features=256, bias=True)\n",
      "  (l3): Linear(in_features=256, out_features=128, bias=True)\n",
      "  (l4): Linear(in_features=128, out_features=64, bias=True)\n",
      "  (l5): Linear(in_features=64, out_features=10, bias=True)\n",
      ")\n"
     ]
    }
   ],
   "source": [
    "net = NeuralNetwork().to(device)\n",
    "print(net)"
   ]
  },
  {
   "cell_type": "markdown",
   "metadata": {},
   "source": [
    "Specify a loss function and an optimizer, and instantiate the model.\n",
    "\n",
    "If you use a less common loss function, please note why you chose that loss function in a comment."
   ]
  },
  {
   "cell_type": "code",
   "execution_count": 15,
   "metadata": {},
   "outputs": [],
   "source": [
    "# loss function\n",
    "loss_fn = nn.CrossEntropyLoss()\n",
    "\n",
    "# optimizer\n",
    "optimizer = optim.SGD(net.parameters(), lr=0.01, momentum=0.9)"
   ]
  },
  {
   "cell_type": "code",
   "execution_count": 16,
   "metadata": {},
   "outputs": [],
   "source": [
    "# Learning rate scheduler\n",
    "# scheduler = optim.lr_scheduler.StepLR(optimizer, step_size=5, gamma=0.1)"
   ]
  },
  {
   "cell_type": "markdown",
   "metadata": {},
   "source": [
    "## Running your Neural Network\n",
    "Use whatever method you like to train your neural network, and ensure you record the average loss at each epoch. \n",
    "Don't forget to use `torch.device()` and the `.to()` method for both your model and your data if you are using GPU!\n",
    "\n",
    "If you want to print your loss **during** each epoch, you can use the `enumerate` function and print the loss after a set number of batches. 250 batches works well for most people!"
   ]
  },
  {
   "cell_type": "code",
   "execution_count": 17,
   "metadata": {},
   "outputs": [
    {
     "data": {
      "text/plain": [
       "NeuralNetwork(\n",
       "  (l1): Linear(in_features=784, out_features=512, bias=True)\n",
       "  (l2): Linear(in_features=512, out_features=256, bias=True)\n",
       "  (l3): Linear(in_features=256, out_features=128, bias=True)\n",
       "  (l4): Linear(in_features=128, out_features=64, bias=True)\n",
       "  (l5): Linear(in_features=64, out_features=10, bias=True)\n",
       ")"
      ]
     },
     "execution_count": 17,
     "metadata": {},
     "output_type": "execute_result"
    }
   ],
   "source": [
    "device = (\n",
    "    \"cuda\"\n",
    "    if torch.cuda.is_available()\n",
    "    else \"mps\"\n",
    "    if torch.backends.mps.is_available()\n",
    "    else \"cpu\"\n",
    ")\n",
    "net.to(device)"
   ]
  },
  {
   "cell_type": "code",
   "execution_count": 19,
   "metadata": {},
   "outputs": [
    {
     "name": "stdout",
     "output_type": "stream",
     "text": [
      "Epoch 1/10, Batch 250/938, Loss: 0.7032\n",
      "Epoch 1/10, Batch 500/938, Loss: 0.2480\n",
      "Epoch 1/10, Batch 750/938, Loss: 0.1362\n",
      "Epoch 1/10, Training Accuracy: 80.49%, Training Loss: 0.62705\n",
      "Epoch 2/10, Batch 250/938, Loss: 0.0904\n",
      "Epoch 2/10, Batch 500/938, Loss: 0.1163\n",
      "Epoch 2/10, Batch 750/938, Loss: 0.0780\n",
      "Epoch 2/10, Training Accuracy: 94.81%, Training Loss: 0.16918\n",
      "Epoch 3/10, Batch 250/938, Loss: 0.2755\n",
      "Epoch 3/10, Batch 500/938, Loss: 0.1367\n",
      "Epoch 3/10, Batch 750/938, Loss: 0.0674\n",
      "Epoch 3/10, Training Accuracy: 96.23%, Training Loss: 0.12246\n",
      "Epoch 4/10, Batch 250/938, Loss: 0.1142\n",
      "Epoch 4/10, Batch 500/938, Loss: 0.1077\n",
      "Epoch 4/10, Batch 750/938, Loss: 0.1830\n",
      "Epoch 4/10, Training Accuracy: 97.10%, Training Loss: 0.09192\n",
      "Epoch 5/10, Batch 250/938, Loss: 0.1743\n",
      "Epoch 5/10, Batch 500/938, Loss: 0.0464\n",
      "Epoch 5/10, Batch 750/938, Loss: 0.0108\n",
      "Epoch 5/10, Training Accuracy: 97.61%, Training Loss: 0.07678\n",
      "Epoch 6/10, Batch 250/938, Loss: 0.1446\n",
      "Epoch 6/10, Batch 500/938, Loss: 0.0394\n",
      "Epoch 6/10, Batch 750/938, Loss: 0.0528\n",
      "Epoch 6/10, Training Accuracy: 97.83%, Training Loss: 0.06696\n",
      "Epoch 7/10, Batch 250/938, Loss: 0.0130\n",
      "Epoch 7/10, Batch 500/938, Loss: 0.0811\n",
      "Epoch 7/10, Batch 750/938, Loss: 0.0190\n",
      "Epoch 7/10, Training Accuracy: 98.15%, Training Loss: 0.05743\n",
      "Epoch 8/10, Batch 250/938, Loss: 0.0144\n",
      "Epoch 8/10, Batch 500/938, Loss: 0.0296\n",
      "Epoch 8/10, Batch 750/938, Loss: 0.0357\n",
      "Epoch 8/10, Training Accuracy: 98.54%, Training Loss: 0.04659\n",
      "Epoch 9/10, Batch 250/938, Loss: 0.0313\n",
      "Epoch 9/10, Batch 500/938, Loss: 0.0203\n",
      "Epoch 9/10, Batch 750/938, Loss: 0.0540\n",
      "Epoch 9/10, Training Accuracy: 98.67%, Training Loss: 0.04045\n",
      "Epoch 10/10, Batch 250/938, Loss: 0.0746\n",
      "Epoch 10/10, Batch 500/938, Loss: 0.0721\n",
      "Epoch 10/10, Batch 750/938, Loss: 0.0257\n",
      "Epoch 10/10, Training Accuracy: 98.84%, Training Loss: 0.03580\n"
     ]
    }
   ],
   "source": [
    "epochs = 10\n",
    "trainingLossHistory = list()\n",
    "\n",
    "for epoch in range(epochs):\n",
    "    net.train()\n",
    "    train_loss = 0.0\n",
    "    train_correct = 0\n",
    "    \n",
    "    for i, data in enumerate(train_loader):\n",
    "        inputs, labels = data\n",
    "        inputs, labels = inputs.to(device), labels.to(device)\n",
    "        \n",
    "        outputs = net(inputs)\n",
    "        loss = loss_fn(outputs, labels)\n",
    "        \n",
    "        # Backpropagation\n",
    "        loss.backward()\n",
    "        optimizer.step()\n",
    "        optimizer.zero_grad()\n",
    "        \n",
    "        _, preds = torch.max(outputs.data, 1)\n",
    "        train_correct += (preds == labels).sum().item()\n",
    "        train_loss += loss.item()\n",
    "\n",
    "        # Print loss every 250 batches\n",
    "        if (i + 1) % 250 == 0:\n",
    "            print(f'Epoch {epoch + 1}/{epochs}, Batch {i + 1}/{len(train_loader)}, Loss: {loss.item():.4f}')\n",
    "\n",
    "    training_accuracy = (train_correct / len(train_loader.dataset)) * 100\n",
    "    training_loss = train_loss / len(train_loader)\n",
    "    trainingLossHistory.append(training_loss)\n",
    "\n",
    "    print(f'Epoch {epoch + 1}/{epochs}, Training Accuracy: {training_accuracy:.2f}%, Training Loss: {training_loss:.5f}')"
   ]
  },
  {
   "cell_type": "markdown",
   "metadata": {},
   "source": [
    "Plot the training loss (and validation loss/accuracy, if recorded)."
   ]
  },
  {
   "cell_type": "code",
   "execution_count": 24,
   "metadata": {},
   "outputs": [
    {
     "data": {
      "image/png": "[encoded data removed]",
      "text/plain": [
       "<Figure size 432x288 with 1 Axes>"
      ]
     },
     "metadata": {
      "needs_background": "light"
     },
     "output_type": "display_data"
    }
   ],
   "source": [
    "plt.plot(training_accuracy, label=\"Training Accuracy\")\n",
    "plt.show()"
   ]
  },
  {
   "cell_type": "code",
   "execution_count": 25,
   "metadata": {},
   "outputs": [
    {
     "data": {
      "image/png": "[encoded data removed]",
      "text/plain": [
       "<Figure size 432x288 with 1 Axes>"
      ]
     },
     "metadata": {
      "needs_background": "light"
     },
     "output_type": "display_data"
    }
   ],
   "source": [
    "plt.plot(trainingLossHistory, label=\"Training Loss History\")\n",
    "plt.show()"
   ]
  },
  {
   "cell_type": "markdown",
   "metadata": {},
   "source": [
    "## Testing your model\n",
    "Using the previously created `DataLoader` for the test set, compute the percentage of correct predictions using the highest probability prediction. \n",
    "\n",
    "If your accuracy is over 90%, great work, but see if you can push a bit further! \n",
    "If your accuracy is under 90%, you'll need to make improvements.\n",
    "Go back and check your model architecture, loss function, and optimizer to make sure they're appropriate for an image classification task."
   ]
  },
  {
   "cell_type": "code",
   "execution_count": 26,
   "metadata": {},
   "outputs": [
    {
     "name": "stdout",
     "output_type": "stream",
     "text": [
      "Test Accuracy: 98.16%, Test Loss: 0.06352\n"
     ]
    }
   ],
   "source": [
    "net.eval()\n",
    "test_loss = 0.0\n",
    "test_correct = 0\n",
    "\n",
    "with torch.no_grad():\n",
    "    for data in test_loader:\n",
    "        inputs, labels = data\n",
    "        inputs, labels = inputs.to(device), labels.to(device)\n",
    "        \n",
    "        outputs = net(inputs)\n",
    "        loss = loss_fn(outputs, labels)\n",
    "        test_loss += loss.item()\n",
    "        \n",
    "        _, preds = torch.max(outputs.data, 1)\n",
    "        test_correct += (preds == labels).sum().item()\n",
    "\n",
    "test_accuracy = (test_correct / len(test_loader.dataset)) * 100 \n",
    "test_loss /= len(test_loader)\n",
    "\n",
    "print(f'Test Accuracy: {test_accuracy:.2f}%, Test Loss: {test_loss:.5f}')"
   ]
  },
  {
   "cell_type": "markdown",
   "metadata": {},
   "source": [
    "## Improving your model\n",
    "\n",
    "Once your model is done training, try tweaking your hyperparameters and training again below to improve your accuracy on the test set!"
   ]
  },
  {
   "cell_type": "code",
   "execution_count": 147,
   "metadata": {},
   "outputs": [],
   "source": [
    "class NeuralNetwork(nn.Module):\n",
    "    def __init__(self):\n",
    "        super(NeuralNetwork, self).__init__()\n",
    "        self.activation = F.relu\n",
    "        \n",
    "        self.l1 = nn.Linear(28 * 28 * 1, 512)\n",
    "        self.dropout1 = nn.Dropout(0.5)\n",
    "        self.l2 = nn.Linear(512, 256)\n",
    "        self.dropout2 = nn.Dropout(0.5)\n",
    "        self.l3 = nn.Linear(256, 128)\n",
    "        self.dropout3 = nn.Dropout(0.5)\n",
    "        self.l4 = nn.Linear(128, 64)\n",
    "        self.l5 = nn.Linear(64, 10)\n",
    "        \n",
    "    def forward(self, x):\n",
    "        x = torch.flatten(x, 1)\n",
    "        x = self.activation(self.l1(x))\n",
    "        x = self.dropout1(x)\n",
    "        x = self.activation(self.l2(x))\n",
    "        x = self.dropout2(x)\n",
    "        x = self.activation(self.l3(x))\n",
    "        x = self.dropout3(x)\n",
    "        x = self.activation(self.l4(x))\n",
    "        x = self.l5(x)\n",
    "        return x"
   ]
  },
  {
   "cell_type": "code",
   "execution_count": 150,
   "metadata": {},
   "outputs": [
    {
     "name": "stdout",
     "output_type": "stream",
     "text": [
      "NeuralNetwork(\n",
      "  (l1): Linear(in_features=784, out_features=512, bias=True)\n",
      "  (dropout1): Dropout(p=0.5, inplace=False)\n",
      "  (l2): Linear(in_features=512, out_features=256, bias=True)\n",
      "  (dropout2): Dropout(p=0.5, inplace=False)\n",
      "  (l3): Linear(in_features=256, out_features=128, bias=True)\n",
      "  (dropout3): Dropout(p=0.5, inplace=False)\n",
      "  (l4): Linear(in_features=128, out_features=64, bias=True)\n",
      "  (l5): Linear(in_features=64, out_features=10, bias=True)\n",
      ")\n"
     ]
    }
   ],
   "source": [
    "net2 = NeuralNetwork()\n",
    "print(net2)"
   ]
  },
  {
   "cell_type": "code",
   "execution_count": 155,
   "metadata": {},
   "outputs": [],
   "source": [
    "net2 = NeuralNetwork().to(device)\n",
    "\n",
    "loss_fn = nn.CrossEntropyLoss()\n",
    "optimizer = optim.Adam(net2.parameters(), lr=1e-3)"
   ]
  },
  {
   "cell_type": "code",
   "execution_count": null,
   "metadata": {},
   "outputs": [],
   "source": []
  },
  {
   "cell_type": "code",
   "execution_count": 156,
   "metadata": {},
   "outputs": [
    {
     "name": "stdout",
     "output_type": "stream",
     "text": [
      "Epoch 1/15, Batch 250/938, Loss: 0.2515\n",
      "Epoch 1/15, Batch 500/938, Loss: 0.1551\n",
      "Epoch 1/15, Batch 750/938, Loss: 0.5117\n",
      "Epoch 1/15, Training Accuracy: 91.65%, Training Loss: 0.29403\n",
      "Epoch 2/15, Batch 250/938, Loss: 0.4572\n",
      "Epoch 2/15, Batch 500/938, Loss: 0.1953\n",
      "Epoch 2/15, Batch 750/938, Loss: 0.2257\n",
      "Epoch 2/15, Training Accuracy: 91.55%, Training Loss: 0.29731\n",
      "Epoch 3/15, Batch 250/938, Loss: 0.4192\n",
      "Epoch 3/15, Batch 500/938, Loss: 0.4509\n",
      "Epoch 3/15, Batch 750/938, Loss: 0.2635\n",
      "Epoch 3/15, Training Accuracy: 91.52%, Training Loss: 0.29622\n",
      "Epoch 4/15, Batch 250/938, Loss: 0.2312\n",
      "Epoch 4/15, Batch 500/938, Loss: 0.1089\n",
      "Epoch 4/15, Batch 750/938, Loss: 0.2156\n",
      "Epoch 4/15, Training Accuracy: 91.62%, Training Loss: 0.29676\n",
      "Epoch 5/15, Batch 250/938, Loss: 0.1656\n",
      "Epoch 5/15, Batch 500/938, Loss: 0.3670\n",
      "Epoch 5/15, Batch 750/938, Loss: 0.2888\n",
      "Epoch 5/15, Training Accuracy: 91.62%, Training Loss: 0.29885\n",
      "Epoch 6/15, Batch 250/938, Loss: 0.3222\n",
      "Epoch 6/15, Batch 500/938, Loss: 0.4032\n",
      "Epoch 6/15, Batch 750/938, Loss: 0.2545\n",
      "Epoch 6/15, Training Accuracy: 91.71%, Training Loss: 0.29305\n",
      "Epoch 7/15, Batch 250/938, Loss: 0.5696\n",
      "Epoch 7/15, Batch 500/938, Loss: 0.3238\n",
      "Epoch 7/15, Batch 750/938, Loss: 0.3983\n",
      "Epoch 7/15, Training Accuracy: 91.56%, Training Loss: 0.29805\n",
      "Epoch 8/15, Batch 250/938, Loss: 0.3953\n",
      "Epoch 8/15, Batch 500/938, Loss: 0.3230\n",
      "Epoch 8/15, Batch 750/938, Loss: 0.3864\n",
      "Epoch 8/15, Training Accuracy: 91.63%, Training Loss: 0.29530\n",
      "Epoch 9/15, Batch 250/938, Loss: 0.2371\n",
      "Epoch 9/15, Batch 500/938, Loss: 0.1828\n",
      "Epoch 9/15, Batch 750/938, Loss: 0.1698\n",
      "Epoch 9/15, Training Accuracy: 91.60%, Training Loss: 0.29787\n",
      "Epoch 10/15, Batch 250/938, Loss: 0.2812\n",
      "Epoch 10/15, Batch 500/938, Loss: 0.3106\n",
      "Epoch 10/15, Batch 750/938, Loss: 0.2120\n",
      "Epoch 10/15, Training Accuracy: 91.53%, Training Loss: 0.29797\n",
      "Epoch 11/15, Batch 250/938, Loss: 0.3992\n",
      "Epoch 11/15, Batch 500/938, Loss: 0.4613\n",
      "Epoch 11/15, Batch 750/938, Loss: 0.2494\n",
      "Epoch 11/15, Training Accuracy: 91.62%, Training Loss: 0.29729\n",
      "Epoch 12/15, Batch 250/938, Loss: 0.3803\n",
      "Epoch 12/15, Batch 500/938, Loss: 0.3960\n",
      "Epoch 12/15, Batch 750/938, Loss: 0.3764\n",
      "Epoch 12/15, Training Accuracy: 91.48%, Training Loss: 0.29501\n",
      "Epoch 13/15, Batch 250/938, Loss: 0.1513\n",
      "Epoch 13/15, Batch 500/938, Loss: 0.5269\n",
      "Epoch 13/15, Batch 750/938, Loss: 0.2317\n",
      "Epoch 13/15, Training Accuracy: 91.67%, Training Loss: 0.29442\n",
      "Epoch 14/15, Batch 250/938, Loss: 0.1307\n",
      "Epoch 14/15, Batch 500/938, Loss: 0.4647\n",
      "Epoch 14/15, Batch 750/938, Loss: 0.2400\n",
      "Epoch 14/15, Training Accuracy: 91.62%, Training Loss: 0.29847\n",
      "Epoch 15/15, Batch 250/938, Loss: 0.2187\n",
      "Epoch 15/15, Batch 500/938, Loss: 0.1734\n",
      "Epoch 15/15, Batch 750/938, Loss: 0.2504\n",
      "Epoch 15/15, Training Accuracy: 91.65%, Training Loss: 0.29431\n"
     ]
    }
   ],
   "source": [
    "# Training improved model \n",
    "epochs = 15\n",
    "trainingLossHistory = list()\n",
    "\n",
    "for epoch in range(epochs):\n",
    "    net2.train()\n",
    "    train_loss = 0.0\n",
    "    train_correct = 0\n",
    "    \n",
    "    for i, data in enumerate(train_loader):\n",
    "        inputs, labels = data\n",
    "        inputs, labels = inputs.to(device), labels.to(device)\n",
    "        \n",
    "        outputs = net(inputs)\n",
    "        loss = loss_fn(outputs, labels)\n",
    "        \n",
    "        # Backpropagation\n",
    "        loss.backward()\n",
    "        optimizer.step()\n",
    "        optimizer.zero_grad()\n",
    "        \n",
    "        _, preds = torch.max(outputs.data, 1)\n",
    "        train_correct += (preds == labels).sum().item()\n",
    "        train_loss += loss.item()\n",
    "\n",
    "        # Print loss every 250 batches\n",
    "        if (i + 1) % 250 == 0:\n",
    "            print(f'Epoch {epoch + 1}/{epochs}, Batch {i + 1}/{len(train_loader)}, Loss: {loss.item():.4f}')\n",
    "    \n",
    "    \n",
    "    \n",
    "    training_accuracy = (train_correct / len(train_loader.dataset)) * 100\n",
    "    training_loss = train_loss / len(train_loader)\n",
    "    trainingLossHistory.append(training_loss)\n",
    "\n",
    "    print(f'Epoch {epoch + 1}/{epochs}, Training Accuracy: {training_accuracy:.2f}%, Training Loss: {training_loss:.5f}')\n",
    "    \n",
    "    "
   ]
  },
  {
   "cell_type": "code",
   "execution_count": 157,
   "metadata": {},
   "outputs": [
    {
     "name": "stdout",
     "output_type": "stream",
     "text": [
      "Final Test Accuracy: 91.47%, Test Loss: 0.29880\n"
     ]
    }
   ],
   "source": [
    "# Testing improved model\n",
    "net2.eval()\n",
    "test_loss = 0.0\n",
    "test_correct = 0\n",
    "\n",
    "with torch.no_grad():\n",
    "    for data in test_loader:\n",
    "        inputs, labels = data\n",
    "        inputs, labels = inputs.to(device), labels.to(device)\n",
    "        \n",
    "        outputs = net(inputs)\n",
    "        loss = loss_fn(outputs, labels)\n",
    "        test_loss += loss.item()\n",
    "        \n",
    "        _, preds = torch.max(outputs.data, 1)\n",
    "        test_correct += (preds == labels).sum().item()\n",
    "\n",
    "test_accuracy = (test_correct / len(test_loader.dataset)) * 100 \n",
    "test_loss /= len(test_loader)\n",
    "\n",
    "print(f'Final Test Accuracy: {test_accuracy:.2f}%, Test Loss: {test_loss:.5f}')"
   ]
  },
  {
   "cell_type": "code",
   "execution_count": null,
   "metadata": {},
   "outputs": [],
   "source": [
    "*After tweaking the parameters, changing learning rates, optimizers and neural network structures, it"
   ]
  },
  {
   "cell_type": "markdown",
   "metadata": {},
   "source": [
    "## Saving your model\n",
    "Using `torch.save`, save your model for future loading."
   ]
  },
  {
   "cell_type": "code",
   "execution_count": null,
   "metadata": {},
   "outputs": [],
   "source": []
  },
  {
   "cell_type": "code",
   "execution_count": null,
   "metadata": {},
   "outputs": [],
   "source": [
    "torch.save(net, \"model1.pth\")\n",
    "torch.save(net2, \"model2.pth\")"
   ]
  }
 ],
 "metadata": {
  "kernelspec": {
   "display_name": "Python 3",
   "language": "python",
   "name": "python3"
  },
  "language_info": {
   "codemirror_mode": {
    "name": "ipython",
    "version": 3
   },
   "file_extension": ".py",
   "mimetype": "text/x-python",
   "name": "python",
   "nbconvert_exporter": "python",
   "pygments_lexer": "ipython3",
   "version": "3.7.6"
  }
 },
 "nbformat": 4,
 "nbformat_minor": 4
}
